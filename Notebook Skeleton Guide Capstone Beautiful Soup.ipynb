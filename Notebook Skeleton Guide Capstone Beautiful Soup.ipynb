{
 "cells": [
  {
   "cell_type": "markdown",
   "metadata": {},
   "source": [
    "# Capstone Webscrapping using BeautifulSoup\n",
    "\n",
    "This notebook contains guidances & tasks on the data processing for the application\n",
    "\n",
    "## background\n",
    "\n",
    "(Please insert the background here )\n",
    "\n",
    "## Requesting the Data and Creating a BeautifulSoup\n",
    "\n",
    "Let's begin with requesting the web from the site with `get` method."
   ]
  },
  {
   "cell_type": "code",
   "execution_count": 1,
   "metadata": {
    "ExecuteTime": {
     "end_time": "2020-01-13T05:12:23.275508Z",
     "start_time": "2020-01-13T05:12:20.009898Z"
    }
   },
   "outputs": [],
   "source": [
    "import requests\n",
    "url_get = requests.get('https://www.exchange-rates.org/history/IDR/USD/T')\n"
   ]
  },
  {
   "cell_type": "markdown",
   "metadata": {},
   "source": [
    "To visualize what exactly you get from the `request.get`, we can use .content so ee what we exactly get, in here i slice it so it won't make our screen full of the html we get from the page. You can delete the slicing if you want to see what we fully get."
   ]
  },
  {
   "cell_type": "code",
   "execution_count": 2,
   "metadata": {
    "ExecuteTime": {
     "end_time": "2020-01-13T05:12:23.290648Z",
     "start_time": "2020-01-13T05:12:23.277650Z"
    }
   },
   "outputs": [
    {
     "data": {
      "text/plain": [
       "b'!DOCTYPE html>\\r\\n<!--[if lt IE 9]>\\r\\n<html class=\"no-js ie8 oldie\" lang=\"en\" xml:lang=\\'en\\'>\\r\\n<![endif]-->\\r\\n<!--[if gt IE 8]><!--><html class=\"no-js\" lang=\"en\" xml:lang=\\'en\\'><!--<![endif]-->\\r\\n<head>\\r\\n<title>USD to IDR exchange rate history</title>\\r\\n<meta http-equiv=\"X-UA-Compatible\" content=\"IE=edge\">\\r\\n<meta name=\"viewport\" content=\"width=device-width, initial-scale=1, maximum-scale=5\">\\r\\n<meta charset=\"utf-8\" /><meta http-equiv=\"Content-Type\" content=\"text/html; charset=utf-8\" />\\r\\n<base href=\"http'"
      ]
     },
     "execution_count": 2,
     "metadata": {},
     "output_type": "execute_result"
    }
   ],
   "source": [
    "url_get.content[1:500]"
   ]
  },
  {
   "cell_type": "markdown",
   "metadata": {},
   "source": [
    "As we can see we get a very unstructured and complex html, which actually contains the codes needed to show the webpages on your web browser. But we as human still confused what and where we can use that piece of code, so here where we use the beautifulsoup. Beautiful soup class will result a beautifulsoup object. Beautiful Soup transforms a complex HTML document into a complex tree of Python objects. \n",
    "\n",
    "Let's make Beautiful soup object and feel free to explore the object here."
   ]
  },
  {
   "cell_type": "code",
   "execution_count": 3,
   "metadata": {
    "ExecuteTime": {
     "end_time": "2020-01-13T05:12:23.808122Z",
     "start_time": "2020-01-13T05:12:23.292610Z"
    }
   },
   "outputs": [
    {
     "name": "stdout",
     "output_type": "stream",
     "text": [
      "<class 'bs4.BeautifulSoup'>\n"
     ]
    }
   ],
   "source": [
    "from bs4 import BeautifulSoup \n",
    "\n",
    "soup = BeautifulSoup(url_get.content,\"html.parser\")\n",
    "print(type(soup))"
   ]
  },
  {
   "cell_type": "code",
   "execution_count": 4,
   "metadata": {},
   "outputs": [
    {
     "name": "stdout",
     "output_type": "stream",
     "text": [
      "<!DOCTYPE html>\n",
      "<!--[if lt IE 9]>\n",
      "<html class=\"no-js ie8 oldie\" lang=\"en\" xml:lang='en'>\n",
      "<![endif]-->\n",
      "<!--[if gt IE 8]><!-->\n",
      "<html class=\"no-js\" lang=\"en\" xml:lang=\"en\">\n",
      " <!--<![endif]-->\n",
      " <head>\n",
      "  <title>\n",
      "   USD to IDR exchange rate history\n",
      "  </title>\n",
      "  <meta content=\"IE=edge\" http-equiv=\"X-UA-Compatible\"/>\n",
      "  <meta content=\"width=device-width, initial-scale=1, maximum-scale=5\" name=\"viewport\"/>\n",
      "  <meta charset=\"utf-8\">\n",
      "   <meta content=\"text/html; charset=utf-8\" http-equiv=\"Content-Type\">\n",
      "   \n"
     ]
    }
   ],
   "source": [
    "print(soup.prettify()[:500])"
   ]
  },
  {
   "cell_type": "markdown",
   "metadata": {},
   "source": [
    "## Finding the right key to scrap the data & Extracting the right information"
   ]
  },
  {
   "cell_type": "markdown",
   "metadata": {},
   "source": [
    "Find the key and put the key into the `.find()` Put all the exploring the right key at this cell. (please change this markdown with your explanation)"
   ]
  },
  {
   "cell_type": "code",
   "execution_count": 5,
   "metadata": {
    "ExecuteTime": {
     "end_time": "2020-01-13T05:12:23.878904Z",
     "start_time": "2020-01-13T05:12:23.854974Z"
    }
   },
   "outputs": [
    {
     "name": "stdout",
     "output_type": "stream",
     "text": [
      "tbody>\n",
      " <tr>\n",
      "  <td>\n",
      "   <a class=\"w\" href=\"/exchange-rate-history/usd-idr-2023-12-18\">\n",
      "    December 18, 2023\n",
      "   </a>\n",
      "   <a class=\"n\" href=\"/exchange-rate-history/usd-idr-2023-12-18\">\n",
      "    2023-12-18\n",
      "   </a>\n",
      "  </td>\n",
      "  <td>\n",
      "   <span class=\"w\">\n",
      "    <span class=\"nowrap\">\n",
      "     <span class=\"currencySymbol\">\n",
      "      $\n",
      "     </span>\n",
      "     1 =\n",
      "    </span>\n",
      "    <span class=\"nowrap\">\n",
      "     <span class=\"currencySymbol\">\n",
      "      Rp\n",
      "     </span>\n",
      "     15,452\n",
      "    </span>\n",
      "   </span>\n",
      "   <span class=\"n\">\n",
      "    <span class=\"n\n"
     ]
    }
   ],
   "source": [
    "table = soup.find('tbody')\n",
    "print(table.prettify()[1:500])"
   ]
  },
  {
   "cell_type": "markdown",
   "metadata": {},
   "source": [
    "Finding row length."
   ]
  },
  {
   "cell_type": "code",
   "execution_count": 6,
   "metadata": {},
   "outputs": [
    {
     "data": {
      "text/plain": [
       "129"
      ]
     },
     "execution_count": 6,
     "metadata": {},
     "output_type": "execute_result"
    }
   ],
   "source": [
    "row = table.find_all('a',attrs={'class':'w'})\n",
    "row_length = len(row)\n",
    "row_length"
   ]
  },
  {
   "cell_type": "markdown",
   "metadata": {},
   "source": [
    "Do the scrapping process here (please change this markdown with your explanation)"
   ]
  },
  {
   "cell_type": "code",
   "execution_count": 7,
   "metadata": {
    "ExecuteTime": {
     "end_time": "2020-01-13T05:12:24.008256Z",
     "start_time": "2020-01-13T05:12:23.980358Z"
    }
   },
   "outputs": [
    {
     "data": {
      "text/plain": [
       "[('2023-12-18', '$1 = Rp15,452'),\n",
       " ('2023-12-15', '$1 = Rp15,529'),\n",
       " ('2023-12-14', '$1 = Rp15,476'),\n",
       " ('2023-12-13', '$1 = Rp15,360'),\n",
       " ('2023-12-12', '$1 = Rp15,576'),\n",
       " ('2023-12-11', '$1 = Rp15,653'),\n",
       " ('2023-12-8', '$1 = Rp15,573'),\n",
       " ('2023-12-7', '$1 = Rp15,507'),\n",
       " ('2023-12-6', '$1 = Rp15,514'),\n",
       " ('2023-12-5', '$1 = Rp15,463'),\n",
       " ('2023-12-4', '$1 = Rp15,485'),\n",
       " ('2023-12-1', '$1 = Rp15,413'),\n",
       " ('2023-11-30', '$1 = Rp15,559'),\n",
       " ('2023-11-29', '$1 = Rp15,459'),\n",
       " ('2023-11-28', '$1 = Rp15,352'),\n",
       " ('2023-11-27', '$1 = Rp15,505'),\n",
       " ('2023-11-24', '$1 = Rp15,540'),\n",
       " ('2023-11-23', '$1 = Rp15,633'),\n",
       " ('2023-11-22', '$1 = Rp15,656'),\n",
       " ('2023-11-21', '$1 = Rp15,517'),\n",
       " ('2023-11-20', '$1 = Rp15,389'),\n",
       " ('2023-11-17', '$1 = Rp15,424'),\n",
       " ('2023-11-16', '$1 = Rp15,484'),\n",
       " ('2023-11-15', '$1 = Rp15,519'),\n",
       " ('2023-11-14', '$1 = Rp15,459'),\n",
       " ('2023-11-13', '$1 = Rp15,683'),\n",
       " ('2023-11-10', '$1 = Rp15,694'),\n",
       " ('2023-11-9', '$1 = Rp15,715'),\n",
       " ('2023-11-8', '$1 = Rp15,625'),\n",
       " ('2023-11-7', '$1 = Rp15,651'),\n",
       " ('2023-11-6', '$1 = Rp15,577'),\n",
       " ('2023-11-3', '$1 = Rp15,589'),\n",
       " ('2023-11-2', '$1 = Rp15,852'),\n",
       " ('2023-11-1', '$1 = Rp15,899'),\n",
       " ('2023-10-31', '$1 = Rp15,919'),\n",
       " ('2023-10-30', '$1 = Rp15,854'),\n",
       " ('2023-10-27', '$1 = Rp15,911'),\n",
       " ('2023-10-26', '$1 = Rp15,927'),\n",
       " ('2023-10-25', '$1 = Rp15,881'),\n",
       " ('2023-10-24', '$1 = Rp15,869'),\n",
       " ('2023-10-23', '$1 = Rp15,897'),\n",
       " ('2023-10-20', '$1 = Rp15,879'),\n",
       " ('2023-10-19', '$1 = Rp15,864'),\n",
       " ('2023-10-18', '$1 = Rp15,824'),\n",
       " ('2023-10-17', '$1 = Rp15,730'),\n",
       " ('2023-10-16', '$1 = Rp15,676'),\n",
       " ('2023-10-13', '$1 = Rp15,703'),\n",
       " ('2023-10-12', '$1 = Rp15,750'),\n",
       " ('2023-10-11', '$1 = Rp15,700'),\n",
       " ('2023-10-10', '$1 = Rp15,716'),\n",
       " ('2023-10-9', '$1 = Rp15,705'),\n",
       " ('2023-10-6', '$1 = Rp15,648'),\n",
       " ('2023-10-5', '$1 = Rp15,636'),\n",
       " ('2023-10-4', '$1 = Rp15,596'),\n",
       " ('2023-10-3', '$1 = Rp15,620'),\n",
       " ('2023-10-2', '$1 = Rp15,538'),\n",
       " ('2023-9-29', '$1 = Rp15,493'),\n",
       " ('2023-9-28', '$1 = Rp15,473'),\n",
       " ('2023-9-27', '$1 = Rp15,573'),\n",
       " ('2023-9-26', '$1 = Rp15,493'),\n",
       " ('2023-9-25', '$1 = Rp15,412'),\n",
       " ('2023-9-22', '$1 = Rp15,357'),\n",
       " ('2023-9-21', '$1 = Rp15,408'),\n",
       " ('2023-9-20', '$1 = Rp15,368'),\n",
       " ('2023-9-19', '$1 = Rp15,382'),\n",
       " ('2023-9-18', '$1 = Rp15,373'),\n",
       " ('2023-9-15', '$1 = Rp15,367'),\n",
       " ('2023-9-14', '$1 = Rp15,402'),\n",
       " ('2023-9-13', '$1 = Rp15,361'),\n",
       " ('2023-9-12', '$1 = Rp15,358'),\n",
       " ('2023-9-11', '$1 = Rp15,348'),\n",
       " ('2023-9-8', '$1 = Rp15,382'),\n",
       " ('2023-9-7', '$1 = Rp15,361'),\n",
       " ('2023-9-6', '$1 = Rp15,340'),\n",
       " ('2023-9-5', '$1 = Rp15,320'),\n",
       " ('2023-9-4', '$1 = Rp15,230'),\n",
       " ('2023-9-1', '$1 = Rp15,258'),\n",
       " ('2023-8-31', '$1 = Rp15,225'),\n",
       " ('2023-8-30', '$1 = Rp15,223'),\n",
       " ('2023-8-29', '$1 = Rp15,202'),\n",
       " ('2023-8-28', '$1 = Rp15,248'),\n",
       " ('2023-8-25', '$1 = Rp15,298'),\n",
       " ('2023-8-24', '$1 = Rp15,246'),\n",
       " ('2023-8-23', '$1 = Rp15,301'),\n",
       " ('2023-8-22', '$1 = Rp15,324'),\n",
       " ('2023-8-21', '$1 = Rp15,325'),\n",
       " ('2023-8-18', '$1 = Rp15,321'),\n",
       " ('2023-8-17', '$1 = Rp15,343'),\n",
       " ('2023-8-16', '$1 = Rp15,369'),\n",
       " ('2023-8-15', '$1 = Rp15,318'),\n",
       " ('2023-8-14', '$1 = Rp15,330'),\n",
       " ('2023-8-11', '$1 = Rp15,324'),\n",
       " ('2023-8-10', '$1 = Rp15,263'),\n",
       " ('2023-8-9', '$1 = Rp15,214'),\n",
       " ('2023-8-8', '$1 = Rp15,212'),\n",
       " ('2023-8-7', '$1 = Rp15,225'),\n",
       " ('2023-8-4', '$1 = Rp15,153'),\n",
       " ('2023-8-3', '$1 = Rp15,148'),\n",
       " ('2023-8-2', '$1 = Rp15,227'),\n",
       " ('2023-8-1', '$1 = Rp15,121'),\n",
       " ('2023-7-31', '$1 = Rp15,099'),\n",
       " ('2023-7-28', '$1 = Rp15,107'),\n",
       " ('2023-7-27', '$1 = Rp15,102'),\n",
       " ('2023-7-26', '$1 = Rp15,009'),\n",
       " ('2023-7-25', '$1 = Rp15,027'),\n",
       " ('2023-7-24', '$1 = Rp15,022'),\n",
       " ('2023-7-21', '$1 = Rp15,043'),\n",
       " ('2023-7-20', '$1 = Rp15,056'),\n",
       " ('2023-7-19', '$1 = Rp15,009'),\n",
       " ('2023-7-18', '$1 = Rp14,989'),\n",
       " ('2023-7-17', '$1 = Rp14,972'),\n",
       " ('2023-7-14', '$1 = Rp15,003'),\n",
       " ('2023-7-13', '$1 = Rp14,954'),\n",
       " ('2023-7-12', '$1 = Rp14,935'),\n",
       " ('2023-7-11', '$1 = Rp15,140'),\n",
       " ('2023-7-10', '$1 = Rp15,187'),\n",
       " ('2023-7-7', '$1 = Rp15,162'),\n",
       " ('2023-7-6', '$1 = Rp15,178'),\n",
       " ('2023-7-5', '$1 = Rp15,078'),\n",
       " ('2023-7-4', '$1 = Rp15,020'),\n",
       " ('2023-7-3', '$1 = Rp15,063'),\n",
       " ('2023-6-30', '$1 = Rp15,040'),\n",
       " ('2023-6-29', '$1 = Rp15,059'),\n",
       " ('2023-6-28', '$1 = Rp14,985'),\n",
       " ('2023-6-27', '$1 = Rp14,988'),\n",
       " ('2023-6-26', '$1 = Rp15,045'),\n",
       " ('2023-6-23', '$1 = Rp15,045'),\n",
       " ('2023-6-22', '$1 = Rp14,939'),\n",
       " ('2023-6-21', '$1 = Rp14,945')]"
      ]
     },
     "execution_count": 7,
     "metadata": {},
     "output_type": "execute_result"
    }
   ],
   "source": [
    "temp = [] #initiating a tuple\n",
    "\n",
    "for i in range(0, row_length):\n",
    "\n",
    "    #scrapping process\n",
    "\n",
    "    #get date\n",
    "    date = table.find_all('a',attrs={'class':'n'})[i].text\n",
    "\n",
    "    #get USD Dollar\n",
    "    kurs = table.find_all('span',attrs={'class':'n'})[i].text\n",
    "\n",
    "    temp.append((date,kurs))\n",
    "\n",
    "temp\n",
    "    \n",
    "temp "
   ]
  },
  {
   "cell_type": "code",
   "execution_count": 8,
   "metadata": {},
   "outputs": [
    {
     "data": {
      "text/plain": [
       "[('2023-6-21', '$1 = Rp14,945'),\n",
       " ('2023-6-22', '$1 = Rp14,939'),\n",
       " ('2023-6-23', '$1 = Rp15,045'),\n",
       " ('2023-6-26', '$1 = Rp15,045'),\n",
       " ('2023-6-27', '$1 = Rp14,988'),\n",
       " ('2023-6-28', '$1 = Rp14,985'),\n",
       " ('2023-6-29', '$1 = Rp15,059'),\n",
       " ('2023-6-30', '$1 = Rp15,040'),\n",
       " ('2023-7-3', '$1 = Rp15,063'),\n",
       " ('2023-7-4', '$1 = Rp15,020'),\n",
       " ('2023-7-5', '$1 = Rp15,078'),\n",
       " ('2023-7-6', '$1 = Rp15,178'),\n",
       " ('2023-7-7', '$1 = Rp15,162'),\n",
       " ('2023-7-10', '$1 = Rp15,187'),\n",
       " ('2023-7-11', '$1 = Rp15,140'),\n",
       " ('2023-7-12', '$1 = Rp14,935'),\n",
       " ('2023-7-13', '$1 = Rp14,954'),\n",
       " ('2023-7-14', '$1 = Rp15,003'),\n",
       " ('2023-7-17', '$1 = Rp14,972'),\n",
       " ('2023-7-18', '$1 = Rp14,989'),\n",
       " ('2023-7-19', '$1 = Rp15,009'),\n",
       " ('2023-7-20', '$1 = Rp15,056'),\n",
       " ('2023-7-21', '$1 = Rp15,043'),\n",
       " ('2023-7-24', '$1 = Rp15,022'),\n",
       " ('2023-7-25', '$1 = Rp15,027'),\n",
       " ('2023-7-26', '$1 = Rp15,009'),\n",
       " ('2023-7-27', '$1 = Rp15,102'),\n",
       " ('2023-7-28', '$1 = Rp15,107'),\n",
       " ('2023-7-31', '$1 = Rp15,099'),\n",
       " ('2023-8-1', '$1 = Rp15,121'),\n",
       " ('2023-8-2', '$1 = Rp15,227'),\n",
       " ('2023-8-3', '$1 = Rp15,148'),\n",
       " ('2023-8-4', '$1 = Rp15,153'),\n",
       " ('2023-8-7', '$1 = Rp15,225'),\n",
       " ('2023-8-8', '$1 = Rp15,212'),\n",
       " ('2023-8-9', '$1 = Rp15,214'),\n",
       " ('2023-8-10', '$1 = Rp15,263'),\n",
       " ('2023-8-11', '$1 = Rp15,324'),\n",
       " ('2023-8-14', '$1 = Rp15,330'),\n",
       " ('2023-8-15', '$1 = Rp15,318'),\n",
       " ('2023-8-16', '$1 = Rp15,369'),\n",
       " ('2023-8-17', '$1 = Rp15,343'),\n",
       " ('2023-8-18', '$1 = Rp15,321'),\n",
       " ('2023-8-21', '$1 = Rp15,325'),\n",
       " ('2023-8-22', '$1 = Rp15,324'),\n",
       " ('2023-8-23', '$1 = Rp15,301'),\n",
       " ('2023-8-24', '$1 = Rp15,246'),\n",
       " ('2023-8-25', '$1 = Rp15,298'),\n",
       " ('2023-8-28', '$1 = Rp15,248'),\n",
       " ('2023-8-29', '$1 = Rp15,202'),\n",
       " ('2023-8-30', '$1 = Rp15,223'),\n",
       " ('2023-8-31', '$1 = Rp15,225'),\n",
       " ('2023-9-1', '$1 = Rp15,258'),\n",
       " ('2023-9-4', '$1 = Rp15,230'),\n",
       " ('2023-9-5', '$1 = Rp15,320'),\n",
       " ('2023-9-6', '$1 = Rp15,340'),\n",
       " ('2023-9-7', '$1 = Rp15,361'),\n",
       " ('2023-9-8', '$1 = Rp15,382'),\n",
       " ('2023-9-11', '$1 = Rp15,348'),\n",
       " ('2023-9-12', '$1 = Rp15,358'),\n",
       " ('2023-9-13', '$1 = Rp15,361'),\n",
       " ('2023-9-14', '$1 = Rp15,402'),\n",
       " ('2023-9-15', '$1 = Rp15,367'),\n",
       " ('2023-9-18', '$1 = Rp15,373'),\n",
       " ('2023-9-19', '$1 = Rp15,382'),\n",
       " ('2023-9-20', '$1 = Rp15,368'),\n",
       " ('2023-9-21', '$1 = Rp15,408'),\n",
       " ('2023-9-22', '$1 = Rp15,357'),\n",
       " ('2023-9-25', '$1 = Rp15,412'),\n",
       " ('2023-9-26', '$1 = Rp15,493'),\n",
       " ('2023-9-27', '$1 = Rp15,573'),\n",
       " ('2023-9-28', '$1 = Rp15,473'),\n",
       " ('2023-9-29', '$1 = Rp15,493'),\n",
       " ('2023-10-2', '$1 = Rp15,538'),\n",
       " ('2023-10-3', '$1 = Rp15,620'),\n",
       " ('2023-10-4', '$1 = Rp15,596'),\n",
       " ('2023-10-5', '$1 = Rp15,636'),\n",
       " ('2023-10-6', '$1 = Rp15,648'),\n",
       " ('2023-10-9', '$1 = Rp15,705'),\n",
       " ('2023-10-10', '$1 = Rp15,716'),\n",
       " ('2023-10-11', '$1 = Rp15,700'),\n",
       " ('2023-10-12', '$1 = Rp15,750'),\n",
       " ('2023-10-13', '$1 = Rp15,703'),\n",
       " ('2023-10-16', '$1 = Rp15,676'),\n",
       " ('2023-10-17', '$1 = Rp15,730'),\n",
       " ('2023-10-18', '$1 = Rp15,824'),\n",
       " ('2023-10-19', '$1 = Rp15,864'),\n",
       " ('2023-10-20', '$1 = Rp15,879'),\n",
       " ('2023-10-23', '$1 = Rp15,897'),\n",
       " ('2023-10-24', '$1 = Rp15,869'),\n",
       " ('2023-10-25', '$1 = Rp15,881'),\n",
       " ('2023-10-26', '$1 = Rp15,927'),\n",
       " ('2023-10-27', '$1 = Rp15,911'),\n",
       " ('2023-10-30', '$1 = Rp15,854'),\n",
       " ('2023-10-31', '$1 = Rp15,919'),\n",
       " ('2023-11-1', '$1 = Rp15,899'),\n",
       " ('2023-11-2', '$1 = Rp15,852'),\n",
       " ('2023-11-3', '$1 = Rp15,589'),\n",
       " ('2023-11-6', '$1 = Rp15,577'),\n",
       " ('2023-11-7', '$1 = Rp15,651'),\n",
       " ('2023-11-8', '$1 = Rp15,625'),\n",
       " ('2023-11-9', '$1 = Rp15,715'),\n",
       " ('2023-11-10', '$1 = Rp15,694'),\n",
       " ('2023-11-13', '$1 = Rp15,683'),\n",
       " ('2023-11-14', '$1 = Rp15,459'),\n",
       " ('2023-11-15', '$1 = Rp15,519'),\n",
       " ('2023-11-16', '$1 = Rp15,484'),\n",
       " ('2023-11-17', '$1 = Rp15,424'),\n",
       " ('2023-11-20', '$1 = Rp15,389'),\n",
       " ('2023-11-21', '$1 = Rp15,517'),\n",
       " ('2023-11-22', '$1 = Rp15,656'),\n",
       " ('2023-11-23', '$1 = Rp15,633'),\n",
       " ('2023-11-24', '$1 = Rp15,540'),\n",
       " ('2023-11-27', '$1 = Rp15,505'),\n",
       " ('2023-11-28', '$1 = Rp15,352'),\n",
       " ('2023-11-29', '$1 = Rp15,459'),\n",
       " ('2023-11-30', '$1 = Rp15,559'),\n",
       " ('2023-12-1', '$1 = Rp15,413'),\n",
       " ('2023-12-4', '$1 = Rp15,485'),\n",
       " ('2023-12-5', '$1 = Rp15,463'),\n",
       " ('2023-12-6', '$1 = Rp15,514'),\n",
       " ('2023-12-7', '$1 = Rp15,507'),\n",
       " ('2023-12-8', '$1 = Rp15,573'),\n",
       " ('2023-12-11', '$1 = Rp15,653'),\n",
       " ('2023-12-12', '$1 = Rp15,576'),\n",
       " ('2023-12-13', '$1 = Rp15,360'),\n",
       " ('2023-12-14', '$1 = Rp15,476'),\n",
       " ('2023-12-15', '$1 = Rp15,529'),\n",
       " ('2023-12-18', '$1 = Rp15,452')]"
      ]
     },
     "execution_count": 8,
     "metadata": {},
     "output_type": "execute_result"
    }
   ],
   "source": [
    "temp = temp[::-1]\n",
    "temp"
   ]
  },
  {
   "cell_type": "markdown",
   "metadata": {},
   "source": [
    "## Creating data frame & Data wrangling"
   ]
  },
  {
   "cell_type": "markdown",
   "metadata": {},
   "source": [
    "Put the array into dataframe"
   ]
  },
  {
   "cell_type": "code",
   "execution_count": 9,
   "metadata": {
    "ExecuteTime": {
     "end_time": "2020-01-13T05:12:41.517372Z",
     "start_time": "2020-01-13T05:12:29.130015Z"
    }
   },
   "outputs": [
    {
     "data": {
      "text/html": [
       "<div>\n",
       "<style scoped>\n",
       "    .dataframe tbody tr th:only-of-type {\n",
       "        vertical-align: middle;\n",
       "    }\n",
       "\n",
       "    .dataframe tbody tr th {\n",
       "        vertical-align: top;\n",
       "    }\n",
       "\n",
       "    .dataframe thead th {\n",
       "        text-align: right;\n",
       "    }\n",
       "</style>\n",
       "<table border=\"1\" class=\"dataframe\">\n",
       "  <thead>\n",
       "    <tr style=\"text-align: right;\">\n",
       "      <th></th>\n",
       "      <th>Date</th>\n",
       "      <th>Kurs</th>\n",
       "    </tr>\n",
       "  </thead>\n",
       "  <tbody>\n",
       "    <tr>\n",
       "      <th>0</th>\n",
       "      <td>2023-6-21</td>\n",
       "      <td>$1 = Rp14,945</td>\n",
       "    </tr>\n",
       "    <tr>\n",
       "      <th>1</th>\n",
       "      <td>2023-6-22</td>\n",
       "      <td>$1 = Rp14,939</td>\n",
       "    </tr>\n",
       "    <tr>\n",
       "      <th>2</th>\n",
       "      <td>2023-6-23</td>\n",
       "      <td>$1 = Rp15,045</td>\n",
       "    </tr>\n",
       "    <tr>\n",
       "      <th>3</th>\n",
       "      <td>2023-6-26</td>\n",
       "      <td>$1 = Rp15,045</td>\n",
       "    </tr>\n",
       "    <tr>\n",
       "      <th>4</th>\n",
       "      <td>2023-6-27</td>\n",
       "      <td>$1 = Rp14,988</td>\n",
       "    </tr>\n",
       "  </tbody>\n",
       "</table>\n",
       "</div>"
      ],
      "text/plain": [
       "        Date           Kurs\n",
       "0  2023-6-21  $1 = Rp14,945\n",
       "1  2023-6-22  $1 = Rp14,939\n",
       "2  2023-6-23  $1 = Rp15,045\n",
       "3  2023-6-26  $1 = Rp15,045\n",
       "4  2023-6-27  $1 = Rp14,988"
      ]
     },
     "execution_count": 9,
     "metadata": {},
     "output_type": "execute_result"
    }
   ],
   "source": [
    "import pandas as pd\n",
    "\n",
    "df = pd.DataFrame(temp, columns =('Date','Kurs'))\n",
    "df.head()"
   ]
  },
  {
   "cell_type": "code",
   "execution_count": 10,
   "metadata": {},
   "outputs": [
    {
     "data": {
      "text/plain": [
       "Date    object\n",
       "Kurs    object\n",
       "dtype: object"
      ]
     },
     "execution_count": 10,
     "metadata": {},
     "output_type": "execute_result"
    }
   ],
   "source": [
    "df.dtypes"
   ]
  },
  {
   "cell_type": "markdown",
   "metadata": {},
   "source": [
    "Do the data cleaning here (please change this markdown with your explanation of what you do for data wrangling)"
   ]
  },
  {
   "cell_type": "code",
   "execution_count": 11,
   "metadata": {},
   "outputs": [
    {
     "data": {
      "text/html": [
       "<div>\n",
       "<style scoped>\n",
       "    .dataframe tbody tr th:only-of-type {\n",
       "        vertical-align: middle;\n",
       "    }\n",
       "\n",
       "    .dataframe tbody tr th {\n",
       "        vertical-align: top;\n",
       "    }\n",
       "\n",
       "    .dataframe thead th {\n",
       "        text-align: right;\n",
       "    }\n",
       "</style>\n",
       "<table border=\"1\" class=\"dataframe\">\n",
       "  <thead>\n",
       "    <tr style=\"text-align: right;\">\n",
       "      <th></th>\n",
       "      <th>Date</th>\n",
       "      <th>Kurs</th>\n",
       "    </tr>\n",
       "  </thead>\n",
       "  <tbody>\n",
       "    <tr>\n",
       "      <th>0</th>\n",
       "      <td>2023-06-21</td>\n",
       "      <td>$1 = Rp14,945</td>\n",
       "    </tr>\n",
       "    <tr>\n",
       "      <th>1</th>\n",
       "      <td>2023-06-22</td>\n",
       "      <td>$1 = Rp14,939</td>\n",
       "    </tr>\n",
       "    <tr>\n",
       "      <th>2</th>\n",
       "      <td>2023-06-23</td>\n",
       "      <td>$1 = Rp15,045</td>\n",
       "    </tr>\n",
       "    <tr>\n",
       "      <th>3</th>\n",
       "      <td>2023-06-26</td>\n",
       "      <td>$1 = Rp15,045</td>\n",
       "    </tr>\n",
       "    <tr>\n",
       "      <th>4</th>\n",
       "      <td>2023-06-27</td>\n",
       "      <td>$1 = Rp14,988</td>\n",
       "    </tr>\n",
       "    <tr>\n",
       "      <th>...</th>\n",
       "      <td>...</td>\n",
       "      <td>...</td>\n",
       "    </tr>\n",
       "    <tr>\n",
       "      <th>124</th>\n",
       "      <td>2023-12-12</td>\n",
       "      <td>$1 = Rp15,576</td>\n",
       "    </tr>\n",
       "    <tr>\n",
       "      <th>125</th>\n",
       "      <td>2023-12-13</td>\n",
       "      <td>$1 = Rp15,360</td>\n",
       "    </tr>\n",
       "    <tr>\n",
       "      <th>126</th>\n",
       "      <td>2023-12-14</td>\n",
       "      <td>$1 = Rp15,476</td>\n",
       "    </tr>\n",
       "    <tr>\n",
       "      <th>127</th>\n",
       "      <td>2023-12-15</td>\n",
       "      <td>$1 = Rp15,529</td>\n",
       "    </tr>\n",
       "    <tr>\n",
       "      <th>128</th>\n",
       "      <td>2023-12-18</td>\n",
       "      <td>$1 = Rp15,452</td>\n",
       "    </tr>\n",
       "  </tbody>\n",
       "</table>\n",
       "<p>129 rows × 2 columns</p>\n",
       "</div>"
      ],
      "text/plain": [
       "          Date           Kurs\n",
       "0   2023-06-21  $1 = Rp14,945\n",
       "1   2023-06-22  $1 = Rp14,939\n",
       "2   2023-06-23  $1 = Rp15,045\n",
       "3   2023-06-26  $1 = Rp15,045\n",
       "4   2023-06-27  $1 = Rp14,988\n",
       "..         ...            ...\n",
       "124 2023-12-12  $1 = Rp15,576\n",
       "125 2023-12-13  $1 = Rp15,360\n",
       "126 2023-12-14  $1 = Rp15,476\n",
       "127 2023-12-15  $1 = Rp15,529\n",
       "128 2023-12-18  $1 = Rp15,452\n",
       "\n",
       "[129 rows x 2 columns]"
      ]
     },
     "execution_count": 11,
     "metadata": {},
     "output_type": "execute_result"
    }
   ],
   "source": [
    "df['Date']=df['Date'].astype('datetime64[ns]')\n",
    "df.dtypes\n",
    "df"
   ]
  },
  {
   "cell_type": "code",
   "execution_count": 12,
   "metadata": {},
   "outputs": [
    {
     "data": {
      "text/plain": [
       "Date    datetime64[ns]\n",
       "Kurs            object\n",
       "dtype: object"
      ]
     },
     "execution_count": 12,
     "metadata": {},
     "output_type": "execute_result"
    }
   ],
   "source": [
    "df.dtypes"
   ]
  },
  {
   "cell_type": "code",
   "execution_count": 13,
   "metadata": {
    "ExecuteTime": {
     "end_time": "2020-01-13T05:12:59.165559Z",
     "start_time": "2020-01-13T05:12:58.910012Z"
    }
   },
   "outputs": [
    {
     "data": {
      "text/html": [
       "<div>\n",
       "<style scoped>\n",
       "    .dataframe tbody tr th:only-of-type {\n",
       "        vertical-align: middle;\n",
       "    }\n",
       "\n",
       "    .dataframe tbody tr th {\n",
       "        vertical-align: top;\n",
       "    }\n",
       "\n",
       "    .dataframe thead th {\n",
       "        text-align: right;\n",
       "    }\n",
       "</style>\n",
       "<table border=\"1\" class=\"dataframe\">\n",
       "  <thead>\n",
       "    <tr style=\"text-align: right;\">\n",
       "      <th></th>\n",
       "      <th>Date</th>\n",
       "      <th>Kurs</th>\n",
       "    </tr>\n",
       "  </thead>\n",
       "  <tbody>\n",
       "    <tr>\n",
       "      <th>0</th>\n",
       "      <td>2023-06-21</td>\n",
       "      <td>$1 = Rp14,945</td>\n",
       "    </tr>\n",
       "    <tr>\n",
       "      <th>1</th>\n",
       "      <td>2023-06-22</td>\n",
       "      <td>$1 = Rp14,939</td>\n",
       "    </tr>\n",
       "    <tr>\n",
       "      <th>2</th>\n",
       "      <td>2023-06-23</td>\n",
       "      <td>$1 = Rp15,045</td>\n",
       "    </tr>\n",
       "    <tr>\n",
       "      <th>3</th>\n",
       "      <td>2023-06-26</td>\n",
       "      <td>$1 = Rp15,045</td>\n",
       "    </tr>\n",
       "    <tr>\n",
       "      <th>4</th>\n",
       "      <td>2023-06-27</td>\n",
       "      <td>$1 = Rp14,988</td>\n",
       "    </tr>\n",
       "    <tr>\n",
       "      <th>...</th>\n",
       "      <td>...</td>\n",
       "      <td>...</td>\n",
       "    </tr>\n",
       "    <tr>\n",
       "      <th>124</th>\n",
       "      <td>2023-12-12</td>\n",
       "      <td>$1 = Rp15,576</td>\n",
       "    </tr>\n",
       "    <tr>\n",
       "      <th>125</th>\n",
       "      <td>2023-12-13</td>\n",
       "      <td>$1 = Rp15,360</td>\n",
       "    </tr>\n",
       "    <tr>\n",
       "      <th>126</th>\n",
       "      <td>2023-12-14</td>\n",
       "      <td>$1 = Rp15,476</td>\n",
       "    </tr>\n",
       "    <tr>\n",
       "      <th>127</th>\n",
       "      <td>2023-12-15</td>\n",
       "      <td>$1 = Rp15,529</td>\n",
       "    </tr>\n",
       "    <tr>\n",
       "      <th>128</th>\n",
       "      <td>2023-12-18</td>\n",
       "      <td>$1 = Rp15,452</td>\n",
       "    </tr>\n",
       "  </tbody>\n",
       "</table>\n",
       "<p>129 rows × 2 columns</p>\n",
       "</div>"
      ],
      "text/plain": [
       "          Date           Kurs\n",
       "0   2023-06-21  $1 = Rp14,945\n",
       "1   2023-06-22  $1 = Rp14,939\n",
       "2   2023-06-23  $1 = Rp15,045\n",
       "3   2023-06-26  $1 = Rp15,045\n",
       "4   2023-06-27  $1 = Rp14,988\n",
       "..         ...            ...\n",
       "124 2023-12-12  $1 = Rp15,576\n",
       "125 2023-12-13  $1 = Rp15,360\n",
       "126 2023-12-14  $1 = Rp15,476\n",
       "127 2023-12-15  $1 = Rp15,529\n",
       "128 2023-12-18  $1 = Rp15,452\n",
       "\n",
       "[129 rows x 2 columns]"
      ]
     },
     "execution_count": 13,
     "metadata": {},
     "output_type": "execute_result"
    }
   ],
   "source": [
    "df['Kurs']=df['Kurs'].replace(',',' ')\n",
    "df\n"
   ]
  },
  {
   "cell_type": "code",
   "execution_count": 14,
   "metadata": {},
   "outputs": [],
   "source": [
    "df['Kurs']=df['Kurs'].str[-6:]"
   ]
  },
  {
   "cell_type": "code",
   "execution_count": 15,
   "metadata": {},
   "outputs": [
    {
     "data": {
      "text/html": [
       "<div>\n",
       "<style scoped>\n",
       "    .dataframe tbody tr th:only-of-type {\n",
       "        vertical-align: middle;\n",
       "    }\n",
       "\n",
       "    .dataframe tbody tr th {\n",
       "        vertical-align: top;\n",
       "    }\n",
       "\n",
       "    .dataframe thead th {\n",
       "        text-align: right;\n",
       "    }\n",
       "</style>\n",
       "<table border=\"1\" class=\"dataframe\">\n",
       "  <thead>\n",
       "    <tr style=\"text-align: right;\">\n",
       "      <th></th>\n",
       "      <th>Date</th>\n",
       "      <th>Kurs</th>\n",
       "    </tr>\n",
       "  </thead>\n",
       "  <tbody>\n",
       "    <tr>\n",
       "      <th>0</th>\n",
       "      <td>2023-06-21</td>\n",
       "      <td>14945</td>\n",
       "    </tr>\n",
       "    <tr>\n",
       "      <th>1</th>\n",
       "      <td>2023-06-22</td>\n",
       "      <td>14939</td>\n",
       "    </tr>\n",
       "    <tr>\n",
       "      <th>2</th>\n",
       "      <td>2023-06-23</td>\n",
       "      <td>15045</td>\n",
       "    </tr>\n",
       "    <tr>\n",
       "      <th>3</th>\n",
       "      <td>2023-06-26</td>\n",
       "      <td>15045</td>\n",
       "    </tr>\n",
       "    <tr>\n",
       "      <th>4</th>\n",
       "      <td>2023-06-27</td>\n",
       "      <td>14988</td>\n",
       "    </tr>\n",
       "    <tr>\n",
       "      <th>...</th>\n",
       "      <td>...</td>\n",
       "      <td>...</td>\n",
       "    </tr>\n",
       "    <tr>\n",
       "      <th>124</th>\n",
       "      <td>2023-12-12</td>\n",
       "      <td>15576</td>\n",
       "    </tr>\n",
       "    <tr>\n",
       "      <th>125</th>\n",
       "      <td>2023-12-13</td>\n",
       "      <td>15360</td>\n",
       "    </tr>\n",
       "    <tr>\n",
       "      <th>126</th>\n",
       "      <td>2023-12-14</td>\n",
       "      <td>15476</td>\n",
       "    </tr>\n",
       "    <tr>\n",
       "      <th>127</th>\n",
       "      <td>2023-12-15</td>\n",
       "      <td>15529</td>\n",
       "    </tr>\n",
       "    <tr>\n",
       "      <th>128</th>\n",
       "      <td>2023-12-18</td>\n",
       "      <td>15452</td>\n",
       "    </tr>\n",
       "  </tbody>\n",
       "</table>\n",
       "<p>129 rows × 2 columns</p>\n",
       "</div>"
      ],
      "text/plain": [
       "          Date   Kurs\n",
       "0   2023-06-21  14945\n",
       "1   2023-06-22  14939\n",
       "2   2023-06-23  15045\n",
       "3   2023-06-26  15045\n",
       "4   2023-06-27  14988\n",
       "..         ...    ...\n",
       "124 2023-12-12  15576\n",
       "125 2023-12-13  15360\n",
       "126 2023-12-14  15476\n",
       "127 2023-12-15  15529\n",
       "128 2023-12-18  15452\n",
       "\n",
       "[129 rows x 2 columns]"
      ]
     },
     "execution_count": 15,
     "metadata": {},
     "output_type": "execute_result"
    }
   ],
   "source": [
    "df['Kurs']=df['Kurs'].str.replace(',','')\n",
    "df"
   ]
  },
  {
   "cell_type": "code",
   "execution_count": 16,
   "metadata": {},
   "outputs": [
    {
     "data": {
      "text/plain": [
       "Date    datetime64[ns]\n",
       "Kurs            object\n",
       "dtype: object"
      ]
     },
     "execution_count": 16,
     "metadata": {},
     "output_type": "execute_result"
    }
   ],
   "source": [
    "df.dtypes"
   ]
  },
  {
   "cell_type": "markdown",
   "metadata": {},
   "source": [
    "Data visualisation (please change this markdown with your explanation of what you do for data wrangling)"
   ]
  },
  {
   "cell_type": "code",
   "execution_count": 17,
   "metadata": {},
   "outputs": [],
   "source": [
    "df['Kurs']=df['Kurs'].astype('int')"
   ]
  },
  {
   "cell_type": "code",
   "execution_count": 18,
   "metadata": {},
   "outputs": [
    {
     "data": {
      "text/html": [
       "<div>\n",
       "<style scoped>\n",
       "    .dataframe tbody tr th:only-of-type {\n",
       "        vertical-align: middle;\n",
       "    }\n",
       "\n",
       "    .dataframe tbody tr th {\n",
       "        vertical-align: top;\n",
       "    }\n",
       "\n",
       "    .dataframe thead th {\n",
       "        text-align: right;\n",
       "    }\n",
       "</style>\n",
       "<table border=\"1\" class=\"dataframe\">\n",
       "  <thead>\n",
       "    <tr style=\"text-align: right;\">\n",
       "      <th></th>\n",
       "      <th>Kurs</th>\n",
       "    </tr>\n",
       "    <tr>\n",
       "      <th>Date</th>\n",
       "      <th></th>\n",
       "    </tr>\n",
       "  </thead>\n",
       "  <tbody>\n",
       "    <tr>\n",
       "      <th>2023-06-21</th>\n",
       "      <td>14945</td>\n",
       "    </tr>\n",
       "    <tr>\n",
       "      <th>2023-06-22</th>\n",
       "      <td>14939</td>\n",
       "    </tr>\n",
       "    <tr>\n",
       "      <th>2023-06-23</th>\n",
       "      <td>15045</td>\n",
       "    </tr>\n",
       "    <tr>\n",
       "      <th>2023-06-26</th>\n",
       "      <td>15045</td>\n",
       "    </tr>\n",
       "    <tr>\n",
       "      <th>2023-06-27</th>\n",
       "      <td>14988</td>\n",
       "    </tr>\n",
       "    <tr>\n",
       "      <th>...</th>\n",
       "      <td>...</td>\n",
       "    </tr>\n",
       "    <tr>\n",
       "      <th>2023-12-12</th>\n",
       "      <td>15576</td>\n",
       "    </tr>\n",
       "    <tr>\n",
       "      <th>2023-12-13</th>\n",
       "      <td>15360</td>\n",
       "    </tr>\n",
       "    <tr>\n",
       "      <th>2023-12-14</th>\n",
       "      <td>15476</td>\n",
       "    </tr>\n",
       "    <tr>\n",
       "      <th>2023-12-15</th>\n",
       "      <td>15529</td>\n",
       "    </tr>\n",
       "    <tr>\n",
       "      <th>2023-12-18</th>\n",
       "      <td>15452</td>\n",
       "    </tr>\n",
       "  </tbody>\n",
       "</table>\n",
       "<p>129 rows × 1 columns</p>\n",
       "</div>"
      ],
      "text/plain": [
       "             Kurs\n",
       "Date             \n",
       "2023-06-21  14945\n",
       "2023-06-22  14939\n",
       "2023-06-23  15045\n",
       "2023-06-26  15045\n",
       "2023-06-27  14988\n",
       "...           ...\n",
       "2023-12-12  15576\n",
       "2023-12-13  15360\n",
       "2023-12-14  15476\n",
       "2023-12-15  15529\n",
       "2023-12-18  15452\n",
       "\n",
       "[129 rows x 1 columns]"
      ]
     },
     "execution_count": 18,
     "metadata": {},
     "output_type": "execute_result"
    }
   ],
   "source": [
    "df=df.set_index('Date')\n",
    "df"
   ]
  },
  {
   "cell_type": "markdown",
   "metadata": {},
   "source": [
    "### Implementing your webscrapping to the flask dashboard\n",
    "\n",
    "- Copy paste all of your web scrapping process to the desired position on the `app.py`\n",
    "- Changing the title of the dasboard at `index.html`"
   ]
  },
  {
   "cell_type": "markdown",
   "metadata": {},
   "source": [
    "## Finishing This Notebook with Your Analysis and Conclusion\n",
    "\n",
    "First you can do start with making the data visualisation. "
   ]
  },
  {
   "cell_type": "code",
   "execution_count": 112,
   "metadata": {
    "ExecuteTime": {
     "end_time": "2020-01-13T05:20:56.208237Z",
     "start_time": "2020-01-13T05:20:56.076043Z"
    }
   },
   "outputs": [
    {
     "data": {
      "text/plain": [
       "<Axes: xlabel='Date'>"
      ]
     },
     "execution_count": 112,
     "metadata": {},
     "output_type": "execute_result"
    },
    {
     "data": {
      "image/png": "[encoded data removed]",
      "text/plain": [
       "<Figure size 640x480 with 1 Axes>"
      ]
     },
     "metadata": {},
     "output_type": "display_data"
    }
   ],
   "source": [
    "df.plot()"
   ]
  },
  {
   "cell_type": "markdown",
   "metadata": {},
   "source": [
    "\n",
    "(Put your analysis and conclusion here.)"
   ]
  },
  {
   "cell_type": "markdown",
   "metadata": {},
   "source": [
    "1. Terdapat kenaikan kurs secara signifikan pada bulan Oktober sampai november kemudian mengalami penurunan pada BUlan Desember\n",
    "2. Secara tren nilai kurs mengalami peningkatan dari Bulan Juli hingga Bulan Desember"
   ]
  },
  {
   "cell_type": "markdown",
   "metadata": {},
   "source": [
    "### Implement it at the webapps\n",
    "\n",
    "- You can create additional analysis from the data.\n",
    "- Implement it to the dashboard with at `app.py` dan `index.html`."
   ]
  }
 ],
 "metadata": {
  "kernelspec": {
   "display_name": "xion_da",
   "language": "python",
   "name": "python3"
  },
  "language_info": {
   "codemirror_mode": {
    "name": "ipython",
    "version": 3
   },
   "file_extension": ".py",
   "mimetype": "text/x-python",
   "name": "python",
   "nbconvert_exporter": "python",
   "pygments_lexer": "ipython3",
   "version": "3.10.13"
  }
 },
 "nbformat": 4,
 "nbformat_minor": 2
}
